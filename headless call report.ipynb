{
 "cells": [
  {
   "cell_type": "markdown",
   "id": "9a9ba13d",
   "metadata": {},
   "source": [
    "## Import the packages"
   ]
  },
  {
   "cell_type": "code",
   "execution_count": 1,
   "id": "01d73ca9",
   "metadata": {},
   "outputs": [],
   "source": [
    "import selenium\n",
    "from selenium import webdriver\n",
    "from selenium.webdriver.common.keys import Keys\n",
    "import datetime\n",
    "import time\n",
    "from time import sleep\n",
    "from selenium.webdriver.common.by import By\n",
    "from selenium.webdriver.chrome.options import Options\n",
    "from datetime import datetime\n",
    "from redmail import outlook"
   ]
  },
  {
   "cell_type": "markdown",
   "id": "ebdbd126",
   "metadata": {},
   "source": [
    "## Selecting Year and Quarter"
   ]
  },
  {
   "cell_type": "code",
   "execution_count": 2,
   "id": "af2830d3",
   "metadata": {},
   "outputs": [],
   "source": [
    "Year=2022\n",
    "Quarter=2"
   ]
  },
  {
   "cell_type": "markdown",
   "id": "a41dd32f",
   "metadata": {},
   "source": [
    "### creating row and column position variables"
   ]
  },
  {
   "cell_type": "code",
   "execution_count": 3,
   "id": "ff52980c",
   "metadata": {},
   "outputs": [],
   "source": [
    "import datetime\n",
    "current_year = datetime.datetime.now().year\n",
    "\n",
    "column_pos=current_year-Year+1\n",
    "row_pos=Quarter+1"
   ]
  },
  {
   "cell_type": "markdown",
   "id": "eb1ca59e",
   "metadata": {},
   "source": [
    "## Setting up headless browser\n"
   ]
  },
  {
   "cell_type": "code",
   "execution_count": 4,
   "id": "a6d12b70",
   "metadata": {},
   "outputs": [],
   "source": [
    "options=Options()\n",
    "options.headless = True\n",
    "driver=webdriver.Chrome(options=options)"
   ]
  },
  {
   "cell_type": "markdown",
   "id": "8606985c",
   "metadata": {},
   "source": [
    "## url of page and path of folder for screenshots"
   ]
  },
  {
   "cell_type": "code",
   "execution_count": 5,
   "id": "8d3ad68a",
   "metadata": {},
   "outputs": [],
   "source": [
    "url=\"https://ncua.gov/analysis/credit-union-corporate-call-report-data/quarterly-data\"\n",
    "path=\"C:/Users/Asus/Desktop/Selenium/call report automation/screenshots/page.png\""
   ]
  },
  {
   "cell_type": "markdown",
   "id": "30ee0a94",
   "metadata": {},
   "source": [
    "## Navigating to the website and printing the website title"
   ]
  },
  {
   "cell_type": "code",
   "execution_count": 6,
   "id": "2286d17e",
   "metadata": {},
   "outputs": [
    {
     "name": "stdout",
     "output_type": "stream",
     "text": [
      "Call Report Quarterly Data | NCUA\n"
     ]
    }
   ],
   "source": [
    "driver.get(url)\n",
    "time.sleep(5)\n",
    "print(driver.title)"
   ]
  },
  {
   "cell_type": "markdown",
   "id": "b85565b2",
   "metadata": {},
   "source": [
    "## Looping to refresh & find element till the element and taking screenshot once file is uploaded\n",
    "\n"
   ]
  },
  {
   "cell_type": "code",
   "execution_count": 7,
   "id": "15543415",
   "metadata": {},
   "outputs": [
    {
     "name": "stdout",
     "output_type": "stream",
     "text": [
      "See second quarter 2022 data\n"
     ]
    }
   ],
   "source": [
    "while True:\n",
    "    try:\n",
    "        driver.refresh()\n",
    "        time.sleep(10)\n",
    "        \n",
    "        full_xpath=[\"/html/body/div/div[1]/main/div/div/div[3]/article/div/div[1]/table/tbody/tr[\",str(column_pos),\"]/td[\",str(row_pos),\"]/a\"]\n",
    "        link=\"\".join(full_xpath)\n",
    "        data=driver.find_element(by=By.XPATH,value=link)\n",
    "    except:\n",
    "        continue\n",
    "    else:\n",
    "        print(data.get_attribute(\"title\"))\n",
    "        S = lambda X: driver.execute_script('return document.body.parentNode.scroll'+X)\n",
    "        driver.set_window_size(S('Width'),S('Height')) # May need manual adjustment                                                                                                                \n",
    "        \n",
    "        break\n",
    "    \n"
   ]
  },
  {
   "cell_type": "markdown",
   "id": "e7c4fb82",
   "metadata": {},
   "source": [
    "## Closing the server \n"
   ]
  },
  {
   "cell_type": "code",
   "execution_count": 8,
   "id": "af69a1bb",
   "metadata": {},
   "outputs": [],
   "source": [
    "driver.close()\n",
    "driver.quit()"
   ]
  },
  {
   "cell_type": "markdown",
   "id": "ef3e9a55",
   "metadata": {},
   "source": [
    "## sending mail using outlook"
   ]
  },
  {
   "cell_type": "code",
   "execution_count": 9,
   "id": "a67b6727",
   "metadata": {},
   "outputs": [
    {
     "name": "stderr",
     "output_type": "stream",
     "text": [
      "C:\\Users\\Asus\\AppData\\Local\\Programs\\Python\\Python311\\Lib\\site-packages\\redmail\\email\\sender.py:557: FutureWarning: Attribute user_name was renamed as username. Please use username instead.\n",
      "  warnings.warn(\"Attribute user_name was renamed as username. Please use username instead.\", FutureWarning)\n"
     ]
    },
    {
     "data": {
      "text/plain": [
       "<email.message.EmailMessage at 0x2d7e4fc63d0>"
      ]
     },
     "execution_count": 9,
     "metadata": {},
     "output_type": "execute_result"
    }
   ],
   "source": [
    "sub=[str(Year),\"Quarter-\",str(Quarter),\"Credit Union Call Report Available\"]\n",
    "sub=\" \".join(sub)\n",
    "\n",
    "outlook.user_name = \"username@gmail.com\"\n",
    "outlook.password = \"uvdadjmyyhpmudnp\"\n",
    "\n",
    "outlook.send(\n",
    "    receivers=[\"recipient@gmail.com\"],\n",
    "    subject=sub,\n",
    "    text=\"Get to work\"\n",
    ")"
   ]
  }
 ],
 "metadata": {
  "kernelspec": {
   "display_name": "Python 3 (ipykernel)",
   "language": "python",
   "name": "python3"
  },
  "language_info": {
   "codemirror_mode": {
    "name": "ipython",
    "version": 3
   },
   "file_extension": ".py",
   "mimetype": "text/x-python",
   "name": "python",
   "nbconvert_exporter": "python",
   "pygments_lexer": "ipython3",
   "version": "3.11.0"
  }
 },
 "nbformat": 4,
 "nbformat_minor": 5
}
